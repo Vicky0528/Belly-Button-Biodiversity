{
 "cells": [
  {
   "cell_type": "code",
   "execution_count": 13,
   "metadata": {},
   "outputs": [],
   "source": [
    "import os\n",
    "import json\n",
    "import csv\n",
    "import pandas as pd\n",
    "import requests\n",
    "import sqlalchemy\n",
    "\n",
    "import sqlalchemy\n",
    "from sqlalchemy.ext.automap import automap_base\n",
    "from sqlalchemy.orm import Session\n",
    "from sqlalchemy import create_engine\n",
    "\n",
    "from flask import Flask, jsonify, render_template"
   ]
  },
  {
   "cell_type": "code",
   "execution_count": 2,
   "metadata": {},
   "outputs": [],
   "source": [
    "with open('data/samples.json') as json_file: \n",
    "    data = json.load(json_file) "
   ]
  },
  {
   "cell_type": "code",
   "execution_count": 3,
   "metadata": {},
   "outputs": [],
   "source": [
    "metadata_data = data['metadata'] \n",
    "samples_data = data['samples']"
   ]
  },
  {
   "cell_type": "code",
   "execution_count": 4,
   "metadata": {},
   "outputs": [],
   "source": [
    "metadata_data_file = open('data/metadata_data.csv', 'w') \n",
    "samples_data_file = open('data/samples_data.csv', 'w')"
   ]
  },
  {
   "cell_type": "code",
   "execution_count": 5,
   "metadata": {},
   "outputs": [],
   "source": [
    "metadata_csv_writer = csv.writer(metadata_data_file) \n",
    "samples_csv_writer = csv.writer(samples_data_file) "
   ]
  },
  {
   "cell_type": "code",
   "execution_count": 6,
   "metadata": {},
   "outputs": [],
   "source": [
    "count_metadata = 0\n",
    "count_sample = 0\n",
    "  \n",
    "for metadata in metadata_data: \n",
    "    if count_metadata == 0: \n",
    "  \n",
    "        # Writing headers of CSV file \n",
    "        header = metadata.keys() \n",
    "        metadata_csv_writer.writerow(header) \n",
    "        count_metadata += 1\n",
    "  \n",
    "    # Writing data of CSV file \n",
    "    metadata_csv_writer.writerow(metadata.values()) \n",
    "  \n",
    "metadata_data_file.close() \n",
    "\n",
    "for sample in samples_data: \n",
    "    if count_sample == 0: \n",
    "  \n",
    "        # Writing headers of CSV file \n",
    "        header = sample.keys() \n",
    "        samples_csv_writer.writerow(header) \n",
    "        count_sample += 1\n",
    "  \n",
    "    # Writing data of CSV file \n",
    "    samples_csv_writer.writerow(sample.values()) \n",
    "  \n",
    "samples_data_file.close() "
   ]
  },
  {
   "cell_type": "code",
   "execution_count": 8,
   "metadata": {},
   "outputs": [],
   "source": [
    "df_metadata = pd.read_csv(\"data/metadata_data.csv\")\n",
    "df_samples = pd.read_csv(\"data/samples_data.csv\")"
   ]
  },
  {
   "cell_type": "code",
   "execution_count": 9,
   "metadata": {},
   "outputs": [],
   "source": [
    "engine = create_engine('sqlite:///data/belly_button.sqlite')\n",
    "df_metadata.to_sql('sample_metadata', engine, index=False, if_exists='replace')\n",
    "df_samples.to_sql('samples', engine, index=False, if_exists='replace')"
   ]
  },
  {
   "cell_type": "code",
   "execution_count": 10,
   "metadata": {},
   "outputs": [
    {
     "data": {
      "text/html": [
       "<div>\n",
       "<style scoped>\n",
       "    .dataframe tbody tr th:only-of-type {\n",
       "        vertical-align: middle;\n",
       "    }\n",
       "\n",
       "    .dataframe tbody tr th {\n",
       "        vertical-align: top;\n",
       "    }\n",
       "\n",
       "    .dataframe thead th {\n",
       "        text-align: right;\n",
       "    }\n",
       "</style>\n",
       "<table border=\"1\" class=\"dataframe\">\n",
       "  <thead>\n",
       "    <tr style=\"text-align: right;\">\n",
       "      <th></th>\n",
       "      <th>id</th>\n",
       "      <th>ethnicity</th>\n",
       "      <th>gender</th>\n",
       "      <th>age</th>\n",
       "      <th>location</th>\n",
       "      <th>bbtype</th>\n",
       "      <th>wfreq</th>\n",
       "    </tr>\n",
       "  </thead>\n",
       "  <tbody>\n",
       "    <tr>\n",
       "      <td>0</td>\n",
       "      <td>940</td>\n",
       "      <td>Caucasian</td>\n",
       "      <td>F</td>\n",
       "      <td>24.0</td>\n",
       "      <td>Beaufort/NC</td>\n",
       "      <td>I</td>\n",
       "      <td>2.0</td>\n",
       "    </tr>\n",
       "    <tr>\n",
       "      <td>1</td>\n",
       "      <td>941</td>\n",
       "      <td>Caucasian/Midleastern</td>\n",
       "      <td>F</td>\n",
       "      <td>34.0</td>\n",
       "      <td>Chicago/IL</td>\n",
       "      <td>I</td>\n",
       "      <td>1.0</td>\n",
       "    </tr>\n",
       "    <tr>\n",
       "      <td>2</td>\n",
       "      <td>943</td>\n",
       "      <td>Caucasian</td>\n",
       "      <td>F</td>\n",
       "      <td>49.0</td>\n",
       "      <td>Omaha/NE</td>\n",
       "      <td>I</td>\n",
       "      <td>1.0</td>\n",
       "    </tr>\n",
       "    <tr>\n",
       "      <td>3</td>\n",
       "      <td>944</td>\n",
       "      <td>European</td>\n",
       "      <td>M</td>\n",
       "      <td>44.0</td>\n",
       "      <td>NewHaven/CT</td>\n",
       "      <td>I</td>\n",
       "      <td>1.0</td>\n",
       "    </tr>\n",
       "    <tr>\n",
       "      <td>4</td>\n",
       "      <td>945</td>\n",
       "      <td>Caucasian</td>\n",
       "      <td>F</td>\n",
       "      <td>48.0</td>\n",
       "      <td>Philidelphia/PA</td>\n",
       "      <td>I</td>\n",
       "      <td>1.0</td>\n",
       "    </tr>\n",
       "  </tbody>\n",
       "</table>\n",
       "</div>"
      ],
      "text/plain": [
       "    id              ethnicity gender   age         location bbtype  wfreq\n",
       "0  940              Caucasian      F  24.0      Beaufort/NC      I    2.0\n",
       "1  941  Caucasian/Midleastern      F  34.0       Chicago/IL      I    1.0\n",
       "2  943              Caucasian      F  49.0         Omaha/NE      I    1.0\n",
       "3  944               European      M  44.0      NewHaven/CT      I    1.0\n",
       "4  945              Caucasian      F  48.0  Philidelphia/PA      I    1.0"
      ]
     },
     "execution_count": 10,
     "metadata": {},
     "output_type": "execute_result"
    }
   ],
   "source": [
    "new_df_metadata = pd.read_sql_query('SELECT * FROM sample_metadata',engine)\n",
    "new_df_metadata.head()"
   ]
  },
  {
   "cell_type": "code",
   "execution_count": 11,
   "metadata": {},
   "outputs": [
    {
     "data": {
      "text/html": [
       "<div>\n",
       "<style scoped>\n",
       "    .dataframe tbody tr th:only-of-type {\n",
       "        vertical-align: middle;\n",
       "    }\n",
       "\n",
       "    .dataframe tbody tr th {\n",
       "        vertical-align: top;\n",
       "    }\n",
       "\n",
       "    .dataframe thead th {\n",
       "        text-align: right;\n",
       "    }\n",
       "</style>\n",
       "<table border=\"1\" class=\"dataframe\">\n",
       "  <thead>\n",
       "    <tr style=\"text-align: right;\">\n",
       "      <th></th>\n",
       "      <th>id</th>\n",
       "      <th>otu_ids</th>\n",
       "      <th>sample_values</th>\n",
       "      <th>otu_labels</th>\n",
       "    </tr>\n",
       "  </thead>\n",
       "  <tbody>\n",
       "    <tr>\n",
       "      <td>0</td>\n",
       "      <td>940</td>\n",
       "      <td>[1167, 2859, 482, 2264, 41, 1189, 352, 189, 23...</td>\n",
       "      <td>[163, 126, 113, 78, 71, 51, 50, 47, 40, 40, 37...</td>\n",
       "      <td>['Bacteria;Bacteroidetes;Bacteroidia;Bacteroid...</td>\n",
       "    </tr>\n",
       "    <tr>\n",
       "      <td>1</td>\n",
       "      <td>941</td>\n",
       "      <td>[2722, 944, 2419, 2539, 3450, 1795, 2389, 1314...</td>\n",
       "      <td>[194, 178, 162, 92, 84, 40, 37, 28, 27, 24, 21...</td>\n",
       "      <td>['Bacteria;Firmicutes;Clostridia;Clostridiales...</td>\n",
       "    </tr>\n",
       "    <tr>\n",
       "      <td>2</td>\n",
       "      <td>943</td>\n",
       "      <td>[1795]</td>\n",
       "      <td>[2]</td>\n",
       "      <td>['Bacteria;Firmicutes;Bacilli;Bacillales;Staph...</td>\n",
       "    </tr>\n",
       "    <tr>\n",
       "      <td>3</td>\n",
       "      <td>944</td>\n",
       "      <td>[922, 3555, 943, 1013, 1795, 944, 3368, 923, 1...</td>\n",
       "      <td>[278, 33, 19, 18, 11, 8, 7, 5, 5, 5, 4, 4, 4, ...</td>\n",
       "      <td>['Bacteria;Actinobacteria;Actinobacteria;Actin...</td>\n",
       "    </tr>\n",
       "    <tr>\n",
       "      <td>4</td>\n",
       "      <td>945</td>\n",
       "      <td>[944, 1795, 922, 2419, 2859, 943, 2722, 1167, ...</td>\n",
       "      <td>[274, 141, 129, 110, 40, 37, 35, 32, 26, 20, 1...</td>\n",
       "      <td>['Bacteria;Actinobacteria;Actinobacteria;Actin...</td>\n",
       "    </tr>\n",
       "  </tbody>\n",
       "</table>\n",
       "</div>"
      ],
      "text/plain": [
       "    id                                            otu_ids  \\\n",
       "0  940  [1167, 2859, 482, 2264, 41, 1189, 352, 189, 23...   \n",
       "1  941  [2722, 944, 2419, 2539, 3450, 1795, 2389, 1314...   \n",
       "2  943                                             [1795]   \n",
       "3  944  [922, 3555, 943, 1013, 1795, 944, 3368, 923, 1...   \n",
       "4  945  [944, 1795, 922, 2419, 2859, 943, 2722, 1167, ...   \n",
       "\n",
       "                                       sample_values  \\\n",
       "0  [163, 126, 113, 78, 71, 51, 50, 47, 40, 40, 37...   \n",
       "1  [194, 178, 162, 92, 84, 40, 37, 28, 27, 24, 21...   \n",
       "2                                                [2]   \n",
       "3  [278, 33, 19, 18, 11, 8, 7, 5, 5, 5, 4, 4, 4, ...   \n",
       "4  [274, 141, 129, 110, 40, 37, 35, 32, 26, 20, 1...   \n",
       "\n",
       "                                          otu_labels  \n",
       "0  ['Bacteria;Bacteroidetes;Bacteroidia;Bacteroid...  \n",
       "1  ['Bacteria;Firmicutes;Clostridia;Clostridiales...  \n",
       "2  ['Bacteria;Firmicutes;Bacilli;Bacillales;Staph...  \n",
       "3  ['Bacteria;Actinobacteria;Actinobacteria;Actin...  \n",
       "4  ['Bacteria;Actinobacteria;Actinobacteria;Actin...  "
      ]
     },
     "execution_count": 11,
     "metadata": {},
     "output_type": "execute_result"
    }
   ],
   "source": [
    "new_df_sample = pd.read_sql_query('SELECT * FROM samples',engine)\n",
    "new_df_sample.head()"
   ]
  },
  {
   "cell_type": "code",
   "execution_count": 14,
   "metadata": {},
   "outputs": [],
   "source": [
    "engine = create_engine(\"sqlite:///data/belly_button.sqlite\")\n",
    "\n",
    "# reflect an existing database into a new model\n",
    "Base = automap_base()\n",
    "# reflect the tables\n",
    "Base.prepare(engine, reflect=True)"
   ]
  },
  {
   "cell_type": "code",
   "execution_count": 15,
   "metadata": {},
   "outputs": [
    {
     "data": {
      "text/plain": [
       "['sample_metadata', 'samples']"
      ]
     },
     "execution_count": 15,
     "metadata": {},
     "output_type": "execute_result"
    }
   ],
   "source": [
    "Base.classes.keys()"
   ]
  },
  {
   "cell_type": "code",
   "execution_count": 16,
   "metadata": {},
   "outputs": [],
   "source": [
    "Samples_Metadata = Base.classes.sample_metadata\n",
    "Samples = Base.classes.samples"
   ]
  },
  {
   "cell_type": "code",
   "execution_count": null,
   "metadata": {},
   "outputs": [],
   "source": []
  }
 ],
 "metadata": {
  "kernelspec": {
   "display_name": "Python 3",
   "language": "python",
   "name": "python3"
  },
  "language_info": {
   "codemirror_mode": {
    "name": "ipython",
    "version": 3
   },
   "file_extension": ".py",
   "mimetype": "text/x-python",
   "name": "python",
   "nbconvert_exporter": "python",
   "pygments_lexer": "ipython3",
   "version": "3.7.4"
  }
 },
 "nbformat": 4,
 "nbformat_minor": 2
}
